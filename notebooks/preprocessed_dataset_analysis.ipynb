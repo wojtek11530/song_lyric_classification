{
 "cells": [
  {
   "cell_type": "code",
   "execution_count": 1,
   "metadata": {},
   "outputs": [],
   "source": [
    "import os\n",
    "\n",
    "import pandas as pd\n",
    "import matplotlib.pyplot as plt\n",
    "import seaborn as sns\n",
    "\n",
    "from nltk.tokenize import word_tokenize"
   ]
  },
  {
   "cell_type": "code",
   "execution_count": 2,
   "metadata": {},
   "outputs": [],
   "source": [
    "project_path = os.path.dirname(os.getcwd())\n",
    "dataset_path = os.path.join(project_path, 'datasets')\n",
    "file_name = 'filtered_dataset_with_lyrics.csv'"
   ]
  },
  {
   "cell_type": "code",
   "execution_count": 3,
   "metadata": {},
   "outputs": [],
   "source": [
    "df = pd.read_csv(os.path.join(dataset_path, file_name), index_col=0)"
   ]
  },
  {
   "cell_type": "code",
   "execution_count": 4,
   "metadata": {},
   "outputs": [
    {
     "data": {
      "text/html": [
       "<div>\n",
       "<style scoped>\n",
       "    .dataframe tbody tr th:only-of-type {\n",
       "        vertical-align: middle;\n",
       "    }\n",
       "\n",
       "    .dataframe tbody tr th {\n",
       "        vertical-align: top;\n",
       "    }\n",
       "\n",
       "    .dataframe thead th {\n",
       "        text-align: right;\n",
       "    }\n",
       "</style>\n",
       "<table border=\"1\" class=\"dataframe\">\n",
       "  <thead>\n",
       "    <tr style=\"text-align: right;\">\n",
       "      <th></th>\n",
       "      <th>song_id_from_src</th>\n",
       "      <th>dataset</th>\n",
       "      <th>title</th>\n",
       "      <th>artist</th>\n",
       "      <th>genre</th>\n",
       "      <th>arousal_mean</th>\n",
       "      <th>arousal_std</th>\n",
       "      <th>valence_mean</th>\n",
       "      <th>valence_std</th>\n",
       "      <th>emotion_4Q</th>\n",
       "      <th>emotion_2Q</th>\n",
       "      <th>lyrics</th>\n",
       "      <th>language</th>\n",
       "      <th>general_genre</th>\n",
       "    </tr>\n",
       "  </thead>\n",
       "  <tbody>\n",
       "    <tr>\n",
       "      <th>2</th>\n",
       "      <td>5</td>\n",
       "      <td>PMEmo2019</td>\n",
       "      <td>No Heart</td>\n",
       "      <td>21 Savage</td>\n",
       "      <td>NaN</td>\n",
       "      <td>0.150000</td>\n",
       "      <td>0.175000</td>\n",
       "      <td>0.200000</td>\n",
       "      <td>0.203101</td>\n",
       "      <td>sad</td>\n",
       "      <td>negative</td>\n",
       "      <td>[Intro] Southside, Southside on the, Southside...</td>\n",
       "      <td>en</td>\n",
       "      <td>NaN</td>\n",
       "    </tr>\n",
       "    <tr>\n",
       "      <th>14</th>\n",
       "      <td>18</td>\n",
       "      <td>PMEmo2019</td>\n",
       "      <td>Send My Love (To Your New Lover)</td>\n",
       "      <td>Adele</td>\n",
       "      <td>Soul</td>\n",
       "      <td>0.800000</td>\n",
       "      <td>0.139194</td>\n",
       "      <td>0.837500</td>\n",
       "      <td>0.097628</td>\n",
       "      <td>happy</td>\n",
       "      <td>positive</td>\n",
       "      <td>[Intro] Just the guitar? Okay, cool  [Verse 1]...</td>\n",
       "      <td>en</td>\n",
       "      <td>Jazz</td>\n",
       "    </tr>\n",
       "    <tr>\n",
       "      <th>15</th>\n",
       "      <td>19</td>\n",
       "      <td>PMEmo2019</td>\n",
       "      <td>Water Under The Bridge</td>\n",
       "      <td>Adele</td>\n",
       "      <td>NaN</td>\n",
       "      <td>0.762500</td>\n",
       "      <td>0.117925</td>\n",
       "      <td>0.750000</td>\n",
       "      <td>0.136931</td>\n",
       "      <td>happy</td>\n",
       "      <td>positive</td>\n",
       "      <td>[Verse 1] If you're not the one for me Then ho...</td>\n",
       "      <td>en</td>\n",
       "      <td>NaN</td>\n",
       "    </tr>\n",
       "    <tr>\n",
       "      <th>17</th>\n",
       "      <td>21</td>\n",
       "      <td>PMEmo2019</td>\n",
       "      <td>Faded</td>\n",
       "      <td>Alan Walker</td>\n",
       "      <td>NaN</td>\n",
       "      <td>0.862500</td>\n",
       "      <td>0.117925</td>\n",
       "      <td>0.775000</td>\n",
       "      <td>0.156125</td>\n",
       "      <td>happy</td>\n",
       "      <td>positive</td>\n",
       "      <td>[Verse 1] You were the shadow to my light Did ...</td>\n",
       "      <td>en</td>\n",
       "      <td>NaN</td>\n",
       "    </tr>\n",
       "    <tr>\n",
       "      <th>19</th>\n",
       "      <td>25</td>\n",
       "      <td>PMEmo2019</td>\n",
       "      <td>Scars To Your Beautiful</td>\n",
       "      <td>Alessia Cara</td>\n",
       "      <td>NaN</td>\n",
       "      <td>0.761364</td>\n",
       "      <td>0.135413</td>\n",
       "      <td>0.784091</td>\n",
       "      <td>0.151610</td>\n",
       "      <td>happy</td>\n",
       "      <td>positive</td>\n",
       "      <td>[Verse 1] She just wants to be beautiful She g...</td>\n",
       "      <td>en</td>\n",
       "      <td>NaN</td>\n",
       "    </tr>\n",
       "  </tbody>\n",
       "</table>\n",
       "</div>"
      ],
      "text/plain": [
       "   song_id_from_src    dataset                             title  \\\n",
       "2                 5  PMEmo2019                          No Heart   \n",
       "14               18  PMEmo2019  Send My Love (To Your New Lover)   \n",
       "15               19  PMEmo2019            Water Under The Bridge   \n",
       "17               21  PMEmo2019                             Faded   \n",
       "19               25  PMEmo2019           Scars To Your Beautiful   \n",
       "\n",
       "          artist genre  arousal_mean  arousal_std  valence_mean  valence_std  \\\n",
       "2      21 Savage   NaN      0.150000     0.175000      0.200000     0.203101   \n",
       "14         Adele  Soul      0.800000     0.139194      0.837500     0.097628   \n",
       "15         Adele   NaN      0.762500     0.117925      0.750000     0.136931   \n",
       "17   Alan Walker   NaN      0.862500     0.117925      0.775000     0.156125   \n",
       "19  Alessia Cara   NaN      0.761364     0.135413      0.784091     0.151610   \n",
       "\n",
       "   emotion_4Q emotion_2Q                                             lyrics  \\\n",
       "2         sad   negative  [Intro] Southside, Southside on the, Southside...   \n",
       "14      happy   positive  [Intro] Just the guitar? Okay, cool  [Verse 1]...   \n",
       "15      happy   positive  [Verse 1] If you're not the one for me Then ho...   \n",
       "17      happy   positive  [Verse 1] You were the shadow to my light Did ...   \n",
       "19      happy   positive  [Verse 1] She just wants to be beautiful She g...   \n",
       "\n",
       "   language general_genre  \n",
       "2        en           NaN  \n",
       "14       en          Jazz  \n",
       "15       en           NaN  \n",
       "17       en           NaN  \n",
       "19       en           NaN  "
      ]
     },
     "metadata": {},
     "output_type": "display_data"
    }
   ],
   "source": [
    "with pd.option_context('display.max_rows', None, 'display.max_columns', None):\n",
    "    display(df.head(5))"
   ]
  },
  {
   "cell_type": "code",
   "execution_count": 5,
   "metadata": {},
   "outputs": [
    {
     "name": "stdout",
     "output_type": "stream",
     "text": [
      "<class 'pandas.core.frame.DataFrame'>\n",
      "Int64Index: 1956 entries, 2 to 3510\n",
      "Data columns (total 14 columns):\n",
      " #   Column            Non-Null Count  Dtype  \n",
      "---  ------            --------------  -----  \n",
      " 0   song_id_from_src  1956 non-null   object \n",
      " 1   dataset           1956 non-null   object \n",
      " 2   title             1956 non-null   object \n",
      " 3   artist            1956 non-null   object \n",
      " 4   genre             1280 non-null   object \n",
      " 5   arousal_mean      107 non-null    float64\n",
      " 6   arousal_std       107 non-null    float64\n",
      " 7   valence_mean      107 non-null    float64\n",
      " 8   valence_std       107 non-null    float64\n",
      " 9   emotion_4Q        1956 non-null   object \n",
      " 10  emotion_2Q        1956 non-null   object \n",
      " 11  lyrics            1956 non-null   object \n",
      " 12  language          1956 non-null   object \n",
      " 13  general_genre     1254 non-null   object \n",
      "dtypes: float64(4), object(10)\n",
      "memory usage: 229.2+ KB\n"
     ]
    }
   ],
   "source": [
    "df.info()"
   ]
  },
  {
   "cell_type": "code",
   "execution_count": 6,
   "metadata": {},
   "outputs": [
    {
     "data": {
      "text/plain": [
       "song_id_from_src       0\n",
       "dataset                0\n",
       "title                  0\n",
       "artist                 0\n",
       "genre                676\n",
       "arousal_mean        1849\n",
       "arousal_std         1849\n",
       "valence_mean        1849\n",
       "valence_std         1849\n",
       "emotion_4Q             0\n",
       "emotion_2Q             0\n",
       "lyrics                 0\n",
       "language               0\n",
       "general_genre        702\n",
       "dtype: int64"
      ]
     },
     "execution_count": 6,
     "metadata": {},
     "output_type": "execute_result"
    }
   ],
   "source": [
    "df.isna().sum()"
   ]
  },
  {
   "cell_type": "code",
   "execution_count": 7,
   "metadata": {},
   "outputs": [
    {
     "data": {
      "image/png": "[encoded data removed]",
      "text/plain": [
       "<Figure size 360x180 with 1 Axes>"
      ]
     },
     "metadata": {
      "needs_background": "light"
     },
     "output_type": "display_data"
    }
   ],
   "source": [
    "g = sns.displot(df['lyrics'].str.len())\n",
    "g.fig.set_figwidth(5)\n",
    "g.fig.set_figheight(2.5)\n",
    "plt.xlabel('Długość tekstu piosenki')\n",
    "plt.ylabel('Liczba piosenek')\n",
    "plt.savefig('lyrics_length_distr.pdf', bbox_inches = \"tight\")"
   ]
  },
  {
   "cell_type": "code",
   "execution_count": 8,
   "metadata": {},
   "outputs": [],
   "source": [
    "words_num = df.apply(lambda x: len(word_tokenize(x['lyrics'])), axis=1)"
   ]
  },
  {
   "cell_type": "code",
   "execution_count": 9,
   "metadata": {},
   "outputs": [
    {
     "data": {
      "text/plain": [
       "Text(3.549999999999997, 0.5, 'Liczba piosenek')"
      ]
     },
     "execution_count": 9,
     "metadata": {},
     "output_type": "execute_result"
    },
    {
     "data": {
      "image/png": "[encoded data removed]",
      "text/plain": [
       "<Figure size 360x180 with 1 Axes>"
      ]
     },
     "metadata": {
      "needs_background": "light"
     },
     "output_type": "display_data"
    }
   ],
   "source": [
    "g = sns.displot(words_num)\n",
    "g.fig.set_figwidth(5)\n",
    "g.fig.set_figheight(2.5)\n",
    "plt.xlabel('Liczba słów w piosence')\n",
    "plt.ylabel('Liczba piosenek')\n",
    "# plt.savefig('words_distr.pdf', bbox_inches = \"tight\")"
   ]
  },
  {
   "cell_type": "code",
   "execution_count": 10,
   "metadata": {},
   "outputs": [
    {
     "data": {
      "text/plain": [
       "Text(0.5, 0, 'Liczba słów w piosence')"
      ]
     },
     "execution_count": 10,
     "metadata": {},
     "output_type": "execute_result"
    },
    {
     "data": {
      "image/png": "[encoded data removed]",
      "text/plain": [
       "<Figure size 360x108 with 1 Axes>"
      ]
     },
     "metadata": {
      "needs_background": "light"
     },
     "output_type": "display_data"
    }
   ],
   "source": [
    "fig, ax = plt.subplots(figsize=(5, 1.5))\n",
    "sns.boxplot(x=words_num, ax=ax)\n",
    "plt.xlabel('Liczba słów w piosence')\n",
    "# plt.savefig('boxplot_words.pdf', bbox_inches = \"tight\")"
   ]
  },
  {
   "cell_type": "code",
   "execution_count": 11,
   "metadata": {},
   "outputs": [
    {
     "data": {
      "text/plain": [
       "Text(0, 0.5, 'Liczba piosenek')"
      ]
     },
     "execution_count": 11,
     "metadata": {},
     "output_type": "execute_result"
    },
    {
     "data": {
      "image/png": "[encoded data removed]",
      "text/plain": [
       "<Figure size 288x180 with 1 Axes>"
      ]
     },
     "metadata": {
      "needs_background": "light"
     },
     "output_type": "display_data"
    }
   ],
   "source": [
    "fig, ax = plt.subplots(figsize=(4, 2.5))\n",
    "sns.countplot(x=\"emotion_4Q\", data=df, order=['angry', 'happy', 'sad', 'relaxed'], ax=ax)\n",
    "plt.xlabel('Emocje')\n",
    "plt.ylabel('Liczba piosenek')\n",
    "# plt.savefig('emotion_distr.pdf', bbox_inches = \"tight\")"
   ]
  },
  {
   "cell_type": "code",
   "execution_count": 12,
   "metadata": {},
   "outputs": [
    {
     "data": {
      "text/plain": [
       "happy      563\n",
       "angry      483\n",
       "sad        461\n",
       "relaxed    449\n",
       "Name: emotion_4Q, dtype: int64"
      ]
     },
     "execution_count": 12,
     "metadata": {},
     "output_type": "execute_result"
    }
   ],
   "source": [
    "df['emotion_4Q'].value_counts()"
   ]
  },
  {
   "cell_type": "code",
   "execution_count": 13,
   "metadata": {},
   "outputs": [
    {
     "data": {
      "text/plain": [
       "['angry', 'happy', 'relaxed', 'sad']"
      ]
     },
     "execution_count": 13,
     "metadata": {},
     "output_type": "execute_result"
    }
   ],
   "source": [
    "sorted(df.emotion_4Q.unique())"
   ]
  },
  {
   "cell_type": "code",
   "execution_count": 14,
   "metadata": {},
   "outputs": [
    {
     "data": {
      "text/plain": [
       "<AxesSubplot:xlabel='emotion_2Q', ylabel='count'>"
      ]
     },
     "execution_count": 14,
     "metadata": {},
     "output_type": "execute_result"
    },
    {
     "data": {
      "image/png": "[encoded data removed]",
      "text/plain": [
       "<Figure size 432x288 with 1 Axes>"
      ]
     },
     "metadata": {
      "needs_background": "light"
     },
     "output_type": "display_data"
    }
   ],
   "source": [
    "sns.countplot(x=\"emotion_2Q\", data=df)"
   ]
  },
  {
   "cell_type": "code",
   "execution_count": 15,
   "metadata": {},
   "outputs": [
    {
     "data": {
      "text/plain": [
       "Text(0, 0.5, 'Liczba danych')"
      ]
     },
     "execution_count": 15,
     "metadata": {},
     "output_type": "execute_result"
    },
    {
     "data": {
      "image/png": "[encoded data removed]",
      "text/plain": [
       "<Figure size 288x180 with 1 Axes>"
      ]
     },
     "metadata": {
      "needs_background": "light"
     },
     "output_type": "display_data"
    }
   ],
   "source": [
    "fig, ax = plt.subplots(figsize=(4, 2.5))\n",
    "sns.countplot(x=\"dataset\", data=df, ax=ax)\n",
    "plt.xlabel('Zbiór danych')\n",
    "plt.ylabel('Liczba danych')\n",
    "# plt.savefig('dataset_distr.pdf', bbox_inches = \"tight\")"
   ]
  },
  {
   "cell_type": "code",
   "execution_count": 16,
   "metadata": {},
   "outputs": [
    {
     "data": {
      "text/plain": [
       "MoodyLyrics4Q    1849\n",
       "PMEmo2019         106\n",
       "emoMusic            1\n",
       "Name: dataset, dtype: int64"
      ]
     },
     "execution_count": 16,
     "metadata": {},
     "output_type": "execute_result"
    }
   ],
   "source": [
    "df['dataset'].value_counts()"
   ]
  },
  {
   "cell_type": "code",
   "execution_count": 17,
   "metadata": {},
   "outputs": [
    {
     "data": {
      "text/html": [
       "<div>\n",
       "<style scoped>\n",
       "    .dataframe tbody tr th:only-of-type {\n",
       "        vertical-align: middle;\n",
       "    }\n",
       "\n",
       "    .dataframe tbody tr th {\n",
       "        vertical-align: top;\n",
       "    }\n",
       "\n",
       "    .dataframe thead th {\n",
       "        text-align: right;\n",
       "    }\n",
       "</style>\n",
       "<table border=\"1\" class=\"dataframe\">\n",
       "  <thead>\n",
       "    <tr style=\"text-align: right;\">\n",
       "      <th></th>\n",
       "      <th>arousal_mean</th>\n",
       "      <th>arousal_std</th>\n",
       "      <th>valence_mean</th>\n",
       "      <th>valence_std</th>\n",
       "    </tr>\n",
       "  </thead>\n",
       "  <tbody>\n",
       "    <tr>\n",
       "      <th>arousal_mean</th>\n",
       "      <td>1.000000</td>\n",
       "      <td>-0.359606</td>\n",
       "      <td>0.807979</td>\n",
       "      <td>-0.162973</td>\n",
       "    </tr>\n",
       "    <tr>\n",
       "      <th>arousal_std</th>\n",
       "      <td>-0.359606</td>\n",
       "      <td>1.000000</td>\n",
       "      <td>-0.377923</td>\n",
       "      <td>0.470872</td>\n",
       "    </tr>\n",
       "    <tr>\n",
       "      <th>valence_mean</th>\n",
       "      <td>0.807979</td>\n",
       "      <td>-0.377923</td>\n",
       "      <td>1.000000</td>\n",
       "      <td>-0.301478</td>\n",
       "    </tr>\n",
       "    <tr>\n",
       "      <th>valence_std</th>\n",
       "      <td>-0.162973</td>\n",
       "      <td>0.470872</td>\n",
       "      <td>-0.301478</td>\n",
       "      <td>1.000000</td>\n",
       "    </tr>\n",
       "  </tbody>\n",
       "</table>\n",
       "</div>"
      ],
      "text/plain": [
       "              arousal_mean  arousal_std  valence_mean  valence_std\n",
       "arousal_mean      1.000000    -0.359606      0.807979    -0.162973\n",
       "arousal_std      -0.359606     1.000000     -0.377923     0.470872\n",
       "valence_mean      0.807979    -0.377923      1.000000    -0.301478\n",
       "valence_std      -0.162973     0.470872     -0.301478     1.000000"
      ]
     },
     "execution_count": 17,
     "metadata": {},
     "output_type": "execute_result"
    }
   ],
   "source": [
    "df.corr()"
   ]
  },
  {
   "cell_type": "code",
   "execution_count": 18,
   "metadata": {},
   "outputs": [
    {
     "data": {
      "text/plain": [
       "NaN                    676\n",
       "Alternative Rock       137\n",
       "Pop                    129\n",
       "Rock                    91\n",
       "Indie                   83\n",
       "Thrash Metal            68\n",
       "Hip-Hop                 60\n",
       "Metal                   50\n",
       "Soul                    35\n",
       "Folk                    34\n",
       "Country                 27\n",
       "Jazz                    26\n",
       "R&B                     25\n",
       "Electronic              25\n",
       "Pop-Rock                24\n",
       "Alternative Metal       24\n",
       "Heavy Metal             23\n",
       "Industrial Metal        20\n",
       "Rap Metal               19\n",
       "Progressive Metal       18\n",
       "Hard Rock               18\n",
       "Punk Rock               17\n",
       "New Wave                16\n",
       "Psychedelic Rock        15\n",
       "Progressive Rock        15\n",
       "New Age                 13\n",
       "Nu Metal                13\n",
       "Doom Metal              12\n",
       "Synthpop                11\n",
       "Acoustic                11\n",
       "Post-Hardcore           10\n",
       "House                   10\n",
       "Ska                      9\n",
       "Ambient                  9\n",
       "Classic Rock             9\n",
       "Metalcore                9\n",
       "Death Metal              9\n",
       "World/Ethnic             9\n",
       "Symphonic Metal          9\n",
       "Comedy                   9\n",
       "Pop-Punk                 7\n",
       "Trip Hop                 7\n",
       "Funk                     7\n",
       "Swing                    7\n",
       "Hardcore Punk            6\n",
       "Dance                    6\n",
       "Post-Punk                6\n",
       "Grunge                   5\n",
       "Post-Rock                5\n",
       "Latin                    4\n",
       "Gothic Metal             4\n",
       "Disco                    4\n",
       "Euro Dance               4\n",
       "Rock & Roll              4\n",
       "Techno                   3\n",
       "Reggae                   3\n",
       "Black Metal              3\n",
       "Lounge                   3\n",
       "Singer Songwriter        3\n",
       "Trance                   3\n",
       "Avant-Garde              3\n",
       "Speed Metal              2\n",
       "Goth                     2\n",
       "BlueGrass                2\n",
       "Folk Metal               2\n",
       "Breaks                   2\n",
       "Electro-Industrial       2\n",
       "Hardcore                 2\n",
       "Acid Jazz                2\n",
       "Stoner Rock              1\n",
       "Grindcore                1\n",
       "Blues                    1\n",
       "HardCore Punk            1\n",
       "Big Band                 1\n",
       "Big Beat                 1\n",
       "Indie Rock               1\n",
       "Alternative Hip-Hop      1\n",
       "Grime                    1\n",
       "Experimental             1\n",
       "Downtempo                1\n",
       "Alternative Country      1\n",
       "Emo                      1\n",
       "UK Garage                1\n",
       "Drum & Bass              1\n",
       "Gospel                   1\n",
       "Name: genre, dtype: int64"
      ]
     },
     "metadata": {},
     "output_type": "display_data"
    }
   ],
   "source": [
    "with pd.option_context('display.max_rows', None):\n",
    "    display(df.genre.value_counts(dropna=False))"
   ]
  },
  {
   "cell_type": "code",
   "execution_count": 19,
   "metadata": {},
   "outputs": [
    {
     "data": {
      "text/plain": [
       "NaN           702\n",
       "Rock          404\n",
       "Metal         298\n",
       "Pop           276\n",
       "Jazz           75\n",
       "Hip-Hop        69\n",
       "Electronic     68\n",
       "Country        64\n",
       "Name: general_genre, dtype: int64"
      ]
     },
     "metadata": {},
     "output_type": "display_data"
    }
   ],
   "source": [
    "with pd.option_context('display.max_rows', None):\n",
    "    display(df.general_genre.value_counts(dropna=False))"
   ]
  },
  {
   "cell_type": "code",
   "execution_count": 20,
   "metadata": {},
   "outputs": [
    {
     "data": {
      "text/plain": [
       "Text(0, 0.5, 'Liczba piosenek')"
      ]
     },
     "execution_count": 20,
     "metadata": {},
     "output_type": "execute_result"
    },
    {
     "data": {
      "image/png": "[encoded data removed]",
      "text/plain": [
       "<Figure size 432x180 with 1 Axes>"
      ]
     },
     "metadata": {
      "needs_background": "light"
     },
     "output_type": "display_data"
    }
   ],
   "source": [
    "fig, ax = plt.subplots(figsize=(6, 2.5))\n",
    "sns.countplot(x=\"general_genre\", data=df, ax=ax)\n",
    "plt.xlabel('Gatunek')\n",
    "plt.ylabel('Liczba piosenek')\n",
    "# plt.savefig('genres_distr.pdf', bbox_inches = \"tight\")"
   ]
  },
  {
   "cell_type": "code",
   "execution_count": 21,
   "metadata": {},
   "outputs": [
    {
     "data": {
      "text/plain": [
       "Text(0, 0.5, 'Pobudzenie $A$')"
      ]
     },
     "execution_count": 21,
     "metadata": {},
     "output_type": "execute_result"
    },
    {
     "data": {
      "image/png": "[encoded data removed]",
      "text/plain": [
       "<Figure size 216x216 with 1 Axes>"
      ]
     },
     "metadata": {
      "needs_background": "light"
     },
     "output_type": "display_data"
    }
   ],
   "source": [
    "import locale\n",
    "# Set to German locale to get comma decimal separater\n",
    "locale.setlocale(locale.LC_NUMERIC, \"pl_PL\")\n",
    "plt.rcParams['axes.formatter.use_locale'] = True\n",
    "\n",
    "plt.subplots(figsize=(3, 3))\n",
    "plt.scatter(df.valence_mean.values, df.arousal_mean.values, s=2)\n",
    "plt.axhline(0.5, color='grey', lw=1)\n",
    "plt.axvline(0.5, color='grey', lw=1)\n",
    "margin=0.05\n",
    "plt.ylim((0-margin, 1+margin))\n",
    "plt.xlim((0-margin, 1+margin))\n",
    "plt.xlabel(r'Walencyjność $V$')\n",
    "plt.ylabel(r'Pobudzenie $A$')\n",
    "# plt.savefig('va_plot.pdf', bbox_inches = \"tight\")"
   ]
  },
  {
   "cell_type": "code",
   "execution_count": 22,
   "metadata": {},
   "outputs": [
    {
     "data": {
      "text/plain": [
       "Text(0, 0.5, 'Odch. stand. pobudzenia $A$')"
      ]
     },
     "execution_count": 22,
     "metadata": {},
     "output_type": "execute_result"
    },
    {
     "data": {
      "image/png": "[encoded data removed]",
      "text/plain": [
       "<Figure size 216x216 with 1 Axes>"
      ]
     },
     "metadata": {
      "needs_background": "light"
     },
     "output_type": "display_data"
    }
   ],
   "source": [
    "import locale\n",
    "# Set to German locale to get comma decimal separater\n",
    "locale.setlocale(locale.LC_NUMERIC, \"pl_PL\")\n",
    "plt.rcParams['axes.formatter.use_locale'] = True\n",
    "\n",
    "plt.subplots(figsize=(3, 3))\n",
    "plt.scatter(df.valence_std.values, df.arousal_std.values, s=2)\n",
    "# margin=0.05\n",
    "# plt.ylim((0-margin, 1+margin))\n",
    "# plt.xlim((0-margin, 1+margin))\n",
    "\n",
    "plt.grid()\n",
    "plt.axis('equal')\n",
    "plt.ylim((0,0.25))\n",
    "plt.xlim((0,0.25))\n",
    "plt.xlabel(r'Odch. stand. walencyjności $V$')\n",
    "plt.ylabel(r'Odch. stand. pobudzenia $A$')\n",
    "# plt.savefig('va_std_plot.pdf', bbox_inches = \"tight\")"
   ]
  },
  {
   "cell_type": "code",
   "execution_count": 23,
   "metadata": {},
   "outputs": [],
   "source": [
    "train_df = pd.read_csv(os.path.join(dataset_path, 'train_dataset.csv'), index_col=0)\n",
    "val_df = pd.read_csv(os.path.join(dataset_path, 'val_dataset.csv'), index_col=0)\n",
    "test_df = pd.read_csv(os.path.join(dataset_path, 'test_dataset.csv'), index_col=0)"
   ]
  },
  {
   "cell_type": "code",
   "execution_count": 24,
   "metadata": {},
   "outputs": [
    {
     "data": {
      "text/plain": [
       "<AxesSubplot:xlabel='emotion_4Q', ylabel='count'>"
      ]
     },
     "execution_count": 24,
     "metadata": {},
     "output_type": "execute_result"
    },
    {
     "data": {
      "image/png": "[encoded data removed]",
      "text/plain": [
       "<Figure size 432x288 with 1 Axes>"
      ]
     },
     "metadata": {
      "needs_background": "light"
     },
     "output_type": "display_data"
    }
   ],
   "source": [
    "sns.countplot(x=\"emotion_4Q\", data=train_df, order=['angry', 'happy', 'sad', 'relaxed'])"
   ]
  },
  {
   "cell_type": "code",
   "execution_count": 25,
   "metadata": {},
   "outputs": [
    {
     "data": {
      "text/plain": [
       "<AxesSubplot:xlabel='emotion_4Q', ylabel='count'>"
      ]
     },
     "execution_count": 25,
     "metadata": {},
     "output_type": "execute_result"
    },
    {
     "data": {
      "image/png": "[encoded data removed]",
      "text/plain": [
       "<Figure size 432x288 with 1 Axes>"
      ]
     },
     "metadata": {
      "needs_background": "light"
     },
     "output_type": "display_data"
    }
   ],
   "source": [
    "sns.countplot(x=\"emotion_4Q\", data=val_df, order=['angry', 'happy', 'sad', 'relaxed'])"
   ]
  },
  {
   "cell_type": "code",
   "execution_count": 26,
   "metadata": {},
   "outputs": [
    {
     "data": {
      "text/plain": [
       "<AxesSubplot:xlabel='emotion_4Q', ylabel='count'>"
      ]
     },
     "execution_count": 26,
     "metadata": {},
     "output_type": "execute_result"
    },
    {
     "data": {
      "image/png": "[encoded data removed]",
      "text/plain": [
       "<Figure size 432x288 with 1 Axes>"
      ]
     },
     "metadata": {
      "needs_background": "light"
     },
     "output_type": "display_data"
    }
   ],
   "source": [
    "sns.countplot(x=\"emotion_4Q\", data=test_df, order=['angry', 'happy', 'sad', 'relaxed'])"
   ]
  }
 ],
 "metadata": {
  "kernelspec": {
   "display_name": "Python 3",
   "language": "python",
   "name": "python3"
  },
  "language_info": {
   "codemirror_mode": {
    "name": "ipython",
    "version": 3
   },
   "file_extension": ".py",
   "mimetype": "text/x-python",
   "name": "python",
   "nbconvert_exporter": "python",
   "pygments_lexer": "ipython3",
   "version": "3.8.3"
  }
 },
 "nbformat": 4,
 "nbformat_minor": 4
}
