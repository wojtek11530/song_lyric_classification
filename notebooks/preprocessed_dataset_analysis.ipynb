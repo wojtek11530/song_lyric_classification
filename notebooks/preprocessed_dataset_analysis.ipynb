{
 "cells": [
  {
   "cell_type": "code",
   "execution_count": 1,
   "metadata": {},
   "outputs": [],
   "source": [
    "import os\n",
    "\n",
    "import pandas as pd\n",
    "import matplotlib.pyplot as plt\n",
    "import seaborn as sns"
   ]
  },
  {
   "cell_type": "code",
   "execution_count": 2,
   "metadata": {},
   "outputs": [],
   "source": [
    "project_path = os.path.dirname(os.getcwd())\n",
    "dataset_path = os.path.join(project_path, 'datasets')\n",
    "file_name = 'preprocessed_dataset_with_lyrics.csv'"
   ]
  },
  {
   "cell_type": "code",
   "execution_count": 3,
   "metadata": {},
   "outputs": [],
   "source": [
    "df = pd.read_csv(os.path.join(dataset_path, file_name), index_col=0)"
   ]
  },
  {
   "cell_type": "code",
   "execution_count": 4,
   "metadata": {},
   "outputs": [
    {
     "data": {
      "text/html": [
       "<div>\n",
       "<style scoped>\n",
       "    .dataframe tbody tr th:only-of-type {\n",
       "        vertical-align: middle;\n",
       "    }\n",
       "\n",
       "    .dataframe tbody tr th {\n",
       "        vertical-align: top;\n",
       "    }\n",
       "\n",
       "    .dataframe thead th {\n",
       "        text-align: right;\n",
       "    }\n",
       "</style>\n",
       "<table border=\"1\" class=\"dataframe\">\n",
       "  <thead>\n",
       "    <tr style=\"text-align: right;\">\n",
       "      <th></th>\n",
       "      <th>song_id_from_src</th>\n",
       "      <th>dataset</th>\n",
       "      <th>title</th>\n",
       "      <th>artist</th>\n",
       "      <th>genre</th>\n",
       "      <th>arousal_mean</th>\n",
       "      <th>arousal_std</th>\n",
       "      <th>valence_mean</th>\n",
       "      <th>valence_std</th>\n",
       "      <th>emotion_4Q</th>\n",
       "      <th>emotion_2Q</th>\n",
       "      <th>lyrics</th>\n",
       "      <th>language</th>\n",
       "      <th>lyrics_without_brackets</th>\n",
       "      <th>general_genre</th>\n",
       "    </tr>\n",
       "  </thead>\n",
       "  <tbody>\n",
       "    <tr>\n",
       "      <th>0</th>\n",
       "      <td>1</td>\n",
       "      <td>PMEmo2019</td>\n",
       "      <td>Good Drank</td>\n",
       "      <td>2 Chainz</td>\n",
       "      <td>NaN</td>\n",
       "      <td>0.4000</td>\n",
       "      <td>0.156125</td>\n",
       "      <td>0.575</td>\n",
       "      <td>0.160078</td>\n",
       "      <td>relaxed</td>\n",
       "      <td>positive</td>\n",
       "      <td>[Intro: 2 Chainz] Uhh, alright I did it, hahah...</td>\n",
       "      <td>en</td>\n",
       "      <td>Uhh, alright I did it, hahah, yeah Used to tre...</td>\n",
       "      <td>NaN</td>\n",
       "    </tr>\n",
       "    <tr>\n",
       "      <th>2</th>\n",
       "      <td>5</td>\n",
       "      <td>PMEmo2019</td>\n",
       "      <td>No Heart</td>\n",
       "      <td>21 Savage</td>\n",
       "      <td>NaN</td>\n",
       "      <td>0.1500</td>\n",
       "      <td>0.175000</td>\n",
       "      <td>0.200</td>\n",
       "      <td>0.203101</td>\n",
       "      <td>sad</td>\n",
       "      <td>negative</td>\n",
       "      <td>[Intro] Southside, Southside on the, Southside...</td>\n",
       "      <td>en</td>\n",
       "      <td>Southside, Southside on the, Southside on the,...</td>\n",
       "      <td>NaN</td>\n",
       "    </tr>\n",
       "    <tr>\n",
       "      <th>3</th>\n",
       "      <td>6</td>\n",
       "      <td>PMEmo2019</td>\n",
       "      <td>Red Opps</td>\n",
       "      <td>21 Savage</td>\n",
       "      <td>NaN</td>\n",
       "      <td>0.5125</td>\n",
       "      <td>0.171847</td>\n",
       "      <td>0.350</td>\n",
       "      <td>0.200000</td>\n",
       "      <td>angry</td>\n",
       "      <td>negative</td>\n",
       "      <td>[Intro] Yeah, yeah, yeah I pull up roll the wi...</td>\n",
       "      <td>en</td>\n",
       "      <td>Yeah, yeah, yeah I pull up roll the window dow...</td>\n",
       "      <td>NaN</td>\n",
       "    </tr>\n",
       "    <tr>\n",
       "      <th>4</th>\n",
       "      <td>7</td>\n",
       "      <td>PMEmo2019</td>\n",
       "      <td>Girls Talk Boys</td>\n",
       "      <td>5 Seconds Of Summer</td>\n",
       "      <td>NaN</td>\n",
       "      <td>0.7000</td>\n",
       "      <td>0.139194</td>\n",
       "      <td>0.725</td>\n",
       "      <td>0.122474</td>\n",
       "      <td>happy</td>\n",
       "      <td>positive</td>\n",
       "      <td>[Intro: All] When the girls, when the girls ta...</td>\n",
       "      <td>en</td>\n",
       "      <td>When the girls, when the girls talk When the g...</td>\n",
       "      <td>NaN</td>\n",
       "    </tr>\n",
       "    <tr>\n",
       "      <th>5</th>\n",
       "      <td>8</td>\n",
       "      <td>PMEmo2019</td>\n",
       "      <td>PRBLMS</td>\n",
       "      <td>6LACK</td>\n",
       "      <td>NaN</td>\n",
       "      <td>0.3875</td>\n",
       "      <td>0.246539</td>\n",
       "      <td>0.225</td>\n",
       "      <td>0.175000</td>\n",
       "      <td>sad</td>\n",
       "      <td>negative</td>\n",
       "      <td>[Intro] Yeah, yeah Yeah, yeah Yeah, yeah Alrig...</td>\n",
       "      <td>en</td>\n",
       "      <td>Yeah, yeah Yeah, yeah Yeah, yeah Alright And s...</td>\n",
       "      <td>NaN</td>\n",
       "    </tr>\n",
       "  </tbody>\n",
       "</table>\n",
       "</div>"
      ],
      "text/plain": [
       "  song_id_from_src    dataset            title               artist genre  \\\n",
       "0                1  PMEmo2019       Good Drank             2 Chainz   NaN   \n",
       "2                5  PMEmo2019         No Heart            21 Savage   NaN   \n",
       "3                6  PMEmo2019         Red Opps            21 Savage   NaN   \n",
       "4                7  PMEmo2019  Girls Talk Boys  5 Seconds Of Summer   NaN   \n",
       "5                8  PMEmo2019           PRBLMS                6LACK   NaN   \n",
       "\n",
       "   arousal_mean  arousal_std  valence_mean  valence_std emotion_4Q emotion_2Q  \\\n",
       "0        0.4000     0.156125         0.575     0.160078    relaxed   positive   \n",
       "2        0.1500     0.175000         0.200     0.203101        sad   negative   \n",
       "3        0.5125     0.171847         0.350     0.200000      angry   negative   \n",
       "4        0.7000     0.139194         0.725     0.122474      happy   positive   \n",
       "5        0.3875     0.246539         0.225     0.175000        sad   negative   \n",
       "\n",
       "                                              lyrics language  \\\n",
       "0  [Intro: 2 Chainz] Uhh, alright I did it, hahah...       en   \n",
       "2  [Intro] Southside, Southside on the, Southside...       en   \n",
       "3  [Intro] Yeah, yeah, yeah I pull up roll the wi...       en   \n",
       "4  [Intro: All] When the girls, when the girls ta...       en   \n",
       "5  [Intro] Yeah, yeah Yeah, yeah Yeah, yeah Alrig...       en   \n",
       "\n",
       "                             lyrics_without_brackets general_genre  \n",
       "0  Uhh, alright I did it, hahah, yeah Used to tre...           NaN  \n",
       "2  Southside, Southside on the, Southside on the,...           NaN  \n",
       "3  Yeah, yeah, yeah I pull up roll the window dow...           NaN  \n",
       "4  When the girls, when the girls talk When the g...           NaN  \n",
       "5  Yeah, yeah Yeah, yeah Yeah, yeah Alright And s...           NaN  "
      ]
     },
     "metadata": {},
     "output_type": "display_data"
    }
   ],
   "source": [
    "with pd.option_context('display.max_rows', None, 'display.max_columns', None):\n",
    "    display(df.head(5))"
   ]
  },
  {
   "cell_type": "code",
   "execution_count": 5,
   "metadata": {},
   "outputs": [
    {
     "name": "stdout",
     "output_type": "stream",
     "text": [
      "<class 'pandas.core.frame.DataFrame'>\n",
      "Int64Index: 2629 entries, 0 to 3510\n",
      "Data columns (total 15 columns):\n",
      " #   Column                   Non-Null Count  Dtype  \n",
      "---  ------                   --------------  -----  \n",
      " 0   song_id_from_src         2629 non-null   object \n",
      " 1   dataset                  2629 non-null   object \n",
      " 2   title                    2629 non-null   object \n",
      " 3   artist                   2629 non-null   object \n",
      " 4   genre                    1532 non-null   object \n",
      " 5   arousal_mean             770 non-null    float64\n",
      " 6   arousal_std              770 non-null    float64\n",
      " 7   valence_mean             770 non-null    float64\n",
      " 8   valence_std              770 non-null    float64\n",
      " 9   emotion_4Q               2629 non-null   object \n",
      " 10  emotion_2Q               2629 non-null   object \n",
      " 11  lyrics                   2629 non-null   object \n",
      " 12  language                 2629 non-null   object \n",
      " 13  lyrics_without_brackets  2629 non-null   object \n",
      " 14  general_genre            1498 non-null   object \n",
      "dtypes: float64(4), object(11)\n",
      "memory usage: 328.6+ KB\n"
     ]
    }
   ],
   "source": [
    "df.info()"
   ]
  },
  {
   "cell_type": "code",
   "execution_count": 6,
   "metadata": {},
   "outputs": [
    {
     "data": {
      "text/plain": [
       "song_id_from_src              0\n",
       "dataset                       0\n",
       "title                         0\n",
       "artist                        0\n",
       "genre                      1097\n",
       "arousal_mean               1859\n",
       "arousal_std                1859\n",
       "valence_mean               1859\n",
       "valence_std                1859\n",
       "emotion_4Q                    0\n",
       "emotion_2Q                    0\n",
       "lyrics                        0\n",
       "language                      0\n",
       "lyrics_without_brackets       0\n",
       "general_genre              1131\n",
       "dtype: int64"
      ]
     },
     "execution_count": 6,
     "metadata": {},
     "output_type": "execute_result"
    }
   ],
   "source": [
    "df.isna().sum()"
   ]
  },
  {
   "cell_type": "code",
   "execution_count": 7,
   "metadata": {},
   "outputs": [
    {
     "data": {
      "text/plain": [
       "Text(0.5, 0, 'Lyrics length')"
      ]
     },
     "execution_count": 7,
     "metadata": {},
     "output_type": "execute_result"
    },
    {
     "data": {
      "image/png": "[encoded data removed]",
      "text/plain": [
       "<Figure size 432x288 with 1 Axes>"
      ]
     },
     "metadata": {
      "needs_background": "light"
     },
     "output_type": "display_data"
    }
   ],
   "source": [
    "sns.distplot(df['lyrics'].str.len())\n",
    "plt.xlabel('Lyrics length')"
   ]
  },
  {
   "cell_type": "code",
   "execution_count": 8,
   "metadata": {},
   "outputs": [
    {
     "data": {
      "text/plain": [
       "<AxesSubplot:xlabel='emotion_4Q', ylabel='count'>"
      ]
     },
     "execution_count": 8,
     "metadata": {},
     "output_type": "execute_result"
    },
    {
     "data": {
      "image/png": "[encoded data removed]",
      "text/plain": [
       "<Figure size 432x288 with 1 Axes>"
      ]
     },
     "metadata": {
      "needs_background": "light"
     },
     "output_type": "display_data"
    }
   ],
   "source": [
    "sns.countplot(x=\"emotion_4Q\", data=df)"
   ]
  },
  {
   "cell_type": "code",
   "execution_count": 9,
   "metadata": {},
   "outputs": [
    {
     "data": {
      "text/plain": [
       "<AxesSubplot:xlabel='emotion_2Q', ylabel='count'>"
      ]
     },
     "execution_count": 9,
     "metadata": {},
     "output_type": "execute_result"
    },
    {
     "data": {
      "image/png": "[encoded data removed]",
      "text/plain": [
       "<Figure size 432x288 with 1 Axes>"
      ]
     },
     "metadata": {
      "needs_background": "light"
     },
     "output_type": "display_data"
    }
   ],
   "source": [
    "sns.countplot(x=\"emotion_2Q\", data=df)"
   ]
  },
  {
   "cell_type": "code",
   "execution_count": 10,
   "metadata": {},
   "outputs": [
    {
     "data": {
      "text/plain": [
       "<AxesSubplot:xlabel='dataset', ylabel='count'>"
      ]
     },
     "execution_count": 10,
     "metadata": {},
     "output_type": "execute_result"
    },
    {
     "data": {
      "image/png": "[encoded data removed]",
      "text/plain": [
       "<Figure size 432x288 with 1 Axes>"
      ]
     },
     "metadata": {
      "needs_background": "light"
     },
     "output_type": "display_data"
    }
   ],
   "source": [
    "sns.countplot(x=\"dataset\", data=df)"
   ]
  },
  {
   "cell_type": "code",
   "execution_count": 11,
   "metadata": {},
   "outputs": [
    {
     "data": {
      "text/plain": [
       "NaN                    1097\n",
       "Pop                     182\n",
       "Alternative Rock        143\n",
       "Rock                    117\n",
       "Hip-Hop                  91\n",
       "Indie                    87\n",
       "Thrash Metal             69\n",
       "Metal                    51\n",
       "Country                  49\n",
       "Folk                     43\n",
       "Electronic               40\n",
       "Jazz                     38\n",
       "R&B                      37\n",
       "Soul                     36\n",
       "Pop-Rock                 28\n",
       "Heavy Metal              24\n",
       "Alternative Metal        24\n",
       "Rap Metal                21\n",
       "Industrial Metal         20\n",
       "Hard Rock                19\n",
       "Progressive Metal        18\n",
       "Punk Rock                17\n",
       "New Wave                 16\n",
       "Progressive Rock         15\n",
       "House                    15\n",
       "Psychedelic Rock         15\n",
       "Synthpop                 13\n",
       "New Age                  13\n",
       "Blues                    13\n",
       "Nu Metal                 13\n",
       "Doom Metal               12\n",
       "Funk                     12\n",
       "Acoustic                 11\n",
       "Post-Hardcore            10\n",
       "Ambient                  10\n",
       "Ska                       9\n",
       "Death Metal               9\n",
       "Classic Rock              9\n",
       "Swing                     9\n",
       "Metalcore                 9\n",
       "World/Ethnic              9\n",
       "Comedy                    9\n",
       "Symphonic Metal           9\n",
       "Trip Hop                  7\n",
       "Pop-Punk                  7\n",
       "Singer Songwriter         7\n",
       "Post-Punk                 6\n",
       "Rock & Roll               6\n",
       "Dance                     6\n",
       "Hardcore Punk             6\n",
       "Grunge                    5\n",
       "Post-Rock                 5\n",
       "Latin                     4\n",
       "Disco                     4\n",
       "Euro Dance                4\n",
       "Classical                 4\n",
       "Reggae                    4\n",
       "Gothic Metal              4\n",
       "Trance                    3\n",
       "Black Metal               3\n",
       "Indie Pop                 3\n",
       "Avant-Garde               3\n",
       "Lounge                    3\n",
       "Techno                    3\n",
       "Rap                       3\n",
       "Electro-Industrial        2\n",
       "BlueGrass                 2\n",
       "Speed Metal               2\n",
       "Breaks                    2\n",
       "Hardcore                  2\n",
       "Indie Rock                2\n",
       "Acid Jazz                 2\n",
       "Grime                     2\n",
       "Folk Metal                2\n",
       "Alternative Hip-Hop       2\n",
       "Goth                      2\n",
       "Electro House             2\n",
       "Stoner Rock               1\n",
       "UK Garage                 1\n",
       "Country Pop               1\n",
       "Deep House                1\n",
       "HardCore Punk             1\n",
       "Big Beat                  1\n",
       "Big Band                  1\n",
       "Grindcore                 1\n",
       "Drum & Bass               1\n",
       "Alternative Country       1\n",
       "Downtempo                 1\n",
       "Emo                       1\n",
       "Experimental              1\n",
       "Gospel                    1\n",
       "Name: genre, dtype: int64"
      ]
     },
     "metadata": {},
     "output_type": "display_data"
    }
   ],
   "source": [
    "with pd.option_context('display.max_rows', None):\n",
    "    display(df.genre.value_counts(dropna=False))"
   ]
  },
  {
   "cell_type": "code",
   "execution_count": 12,
   "metadata": {},
   "outputs": [
    {
     "data": {
      "text/plain": [
       "NaN           1131\n",
       "Rock           464\n",
       "Pop            349\n",
       "Metal          303\n",
       "Hip-Hop        105\n",
       "Country         95\n",
       "Electronic      92\n",
       "Jazz            90\n",
       "Name: general_genre, dtype: int64"
      ]
     },
     "metadata": {},
     "output_type": "display_data"
    }
   ],
   "source": [
    "with pd.option_context('display.max_rows', None):\n",
    "    display(df.general_genre.value_counts(dropna=False))"
   ]
  },
  {
   "cell_type": "code",
   "execution_count": 13,
   "metadata": {},
   "outputs": [
    {
     "data": {
      "text/plain": [
       "<AxesSubplot:xlabel='general_genre', ylabel='count'>"
      ]
     },
     "execution_count": 13,
     "metadata": {},
     "output_type": "execute_result"
    },
    {
     "data": {
      "image/png": "[encoded data removed]",
      "text/plain": [
       "<Figure size 432x288 with 1 Axes>"
      ]
     },
     "metadata": {
      "needs_background": "light"
     },
     "output_type": "display_data"
    }
   ],
   "source": [
    "sns.countplot(x=\"general_genre\", data=df)"
   ]
  },
  {
   "cell_type": "code",
   "execution_count": 14,
   "metadata": {},
   "outputs": [
    {
     "data": {
      "text/plain": [
       "Text(0, 0.5, 'arousal')"
      ]
     },
     "execution_count": 14,
     "metadata": {},
     "output_type": "execute_result"
    },
    {
     "data": {
      "image/png": "[encoded data removed]",
      "text/plain": [
       "<Figure size 432x288 with 1 Axes>"
      ]
     },
     "metadata": {
      "needs_background": "light"
     },
     "output_type": "display_data"
    }
   ],
   "source": [
    "plt.scatter(df.valence_mean.values, df.arousal_mean.values, s=5)\n",
    "plt.title('Valence-Arousal plot')\n",
    "plt.axhline(0.5, color='grey', lw=1)\n",
    "plt.axvline(0.5, color='grey', lw=1)\n",
    "plt.xlabel('valence')\n",
    "plt.ylabel('arousal')"
   ]
  }
 ],
 "metadata": {
  "kernelspec": {
   "display_name": "Python 3",
   "language": "python",
   "name": "python3"
  },
  "language_info": {
   "codemirror_mode": {
    "name": "ipython",
    "version": 3
   },
   "file_extension": ".py",
   "mimetype": "text/x-python",
   "name": "python",
   "nbconvert_exporter": "python",
   "pygments_lexer": "ipython3",
   "version": "3.8.5"
  }
 },
 "nbformat": 4,
 "nbformat_minor": 4
}
